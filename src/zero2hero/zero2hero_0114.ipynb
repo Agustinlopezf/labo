{
 "cells": [
  {
   "cell_type": "markdown",
   "metadata": {},
   "source": [
    "# Zero to Hero"
   ]
  },
  {
   "cell_type": "markdown",
   "metadata": {},
   "source": [
    "## 1.14 Montecarlo Estimation, Arbol\n",
    "## con un for loop"
   ]
  },
  {
   "cell_type": "markdown",
   "metadata": {},
   "source": [
    "El objetivo es implementar con un for loop la estimacion montecarlo, que promedia las ganancias"
   ]
  },
  {
   "cell_type": "code",
   "execution_count": 1,
   "metadata": {
    "tags": []
   },
   "outputs": [
    {
     "data": {
      "text/html": [
       "<table class=\"dataframe\">\n",
       "<caption>A matrix: 2 × 6 of type dbl</caption>\n",
       "<thead>\n",
       "\t<tr><th></th><th scope=col>used</th><th scope=col>(Mb)</th><th scope=col>gc trigger</th><th scope=col>(Mb)</th><th scope=col>max used</th><th scope=col>(Mb)</th></tr>\n",
       "</thead>\n",
       "<tbody>\n",
       "\t<tr><th scope=row>Ncells</th><td> 614807</td><td>32.9</td><td>1321231</td><td>70.6</td><td>1321231</td><td>70.6</td></tr>\n",
       "\t<tr><th scope=row>Vcells</th><td>1093714</td><td> 8.4</td><td>8388608</td><td>64.0</td><td>1632983</td><td>12.5</td></tr>\n",
       "</tbody>\n",
       "</table>\n"
      ],
      "text/latex": [
       "A matrix: 2 × 6 of type dbl\n",
       "\\begin{tabular}{r|llllll}\n",
       "  & used & (Mb) & gc trigger & (Mb) & max used & (Mb)\\\\\n",
       "\\hline\n",
       "\tNcells &  614807 & 32.9 & 1321231 & 70.6 & 1321231 & 70.6\\\\\n",
       "\tVcells & 1093714 &  8.4 & 8388608 & 64.0 & 1632983 & 12.5\\\\\n",
       "\\end{tabular}\n"
      ],
      "text/markdown": [
       "\n",
       "A matrix: 2 × 6 of type dbl\n",
       "\n",
       "| <!--/--> | used | (Mb) | gc trigger | (Mb) | max used | (Mb) |\n",
       "|---|---|---|---|---|---|---|\n",
       "| Ncells |  614807 | 32.9 | 1321231 | 70.6 | 1321231 | 70.6 |\n",
       "| Vcells | 1093714 |  8.4 | 8388608 | 64.0 | 1632983 | 12.5 |\n",
       "\n"
      ],
      "text/plain": [
       "       used    (Mb) gc trigger (Mb) max used (Mb)\n",
       "Ncells  614807 32.9 1321231    70.6 1321231  70.6\n",
       "Vcells 1093714  8.4 8388608    64.0 1632983  12.5"
      ]
     },
     "metadata": {},
     "output_type": "display_data"
    },
    {
     "name": "stderr",
     "output_type": "stream",
     "text": [
      "Loading required package: ggplot2\n",
      "\n",
      "Loading required package: lattice\n",
      "\n"
     ]
    }
   ],
   "source": [
    "rm( list=ls())\n",
    "gc()\n",
    "\n",
    "library(\"data.table\")   #cargo la libreria  data.table\n",
    "library(\"rpart\")  #cargo la libreria  rpart\n",
    "library(\"rpart.plot\")\n",
    "library(\"caret\")\n",
    "\n",
    "options(repr.plot.width=20, repr.plot.height=10) \n",
    "setwd(\"C:\\\\Users\\\\agust\\\\Desktop\\\\laboimplementacion\") #Aqui se debe poner la ruta de la PC local"
   ]
  },
  {
   "cell_type": "markdown",
   "metadata": {},
   "source": [
    "La funcion que definimos en el notebook anterior"
   ]
  },
  {
   "cell_type": "code",
   "execution_count": 2,
   "metadata": {
    "tags": []
   },
   "outputs": [],
   "source": [
    "GananciaArbol  <-  function( semilla, data, x, train=0.70) {\n",
    "  #establezco la semilla\n",
    "  set.seed(semilla)\n",
    "  train_rows <- createDataPartition(dataset$clase_ternaria, p= 0.70,list= FALSE)\n",
    "  \n",
    "  modelo <-  rpart::rpart(formula= \"clase_ternaria ~ .\" ,\n",
    "                          data= data[ train_rows],  #los datos de training\n",
    "                          xval= 0,\n",
    "                          control= x)\n",
    "    \n",
    "  #Aplico el modelo a los datos de testing  \n",
    "  prediccion  <- predict( modelo, data[ -train_rows], type = \"prob\")\n",
    "  \n",
    "  prob_baja2  <- prediccion[, \"BAJA+2\"]\n",
    "  ganancia_testing <- data[ -train_rows, sum(  (prob_baja2> 0.025) * ifelse( clase_ternaria==\"BAJA+2\", 117000, -3000) )]\n",
    "\n",
    "  #normalizo la ganancia\n",
    "  ganancia_testing_normalizada  <- ganancia_testing/0.3  \n",
    "\n",
    "  return( ganancia_testing_normalizada )\n",
    "}"
   ]
  },
  {
   "cell_type": "code",
   "execution_count": 3,
   "metadata": {
    "tags": []
   },
   "outputs": [],
   "source": [
    "dataset <- fread(\"./datasets/dataset_pequeno.csv\")   #cargo el dataset #cargo el dataset\n",
    "dataset <- dataset[ foto_mes==202107 ]  # me quedo solo con el periodo 202107"
   ]
  },
  {
   "cell_type": "code",
   "execution_count": 4,
   "metadata": {
    "tags": []
   },
   "outputs": [],
   "source": [
    "#defino unos buenos hiperparametros\n",
    "param  <- list(\"cp\"= -0.5,\n",
    "               \"minsplit\"=  900,\n",
    "               \"minbucket\"= 440,\n",
    "               \"maxdepth\"= 5 )"
   ]
  },
  {
   "cell_type": "code",
   "execution_count": null,
   "metadata": {},
   "outputs": [],
   "source": [
    "#defino el vector de semillas"
   ]
  },
  {
   "cell_type": "code",
   "execution_count": 5,
   "metadata": {
    "tags": []
   },
   "outputs": [],
   "source": [
    "ksemillas  <- c(328789, 820679, 387967, 639167, 374807) #reemplazar por las propias semillas"
   ]
  },
  {
   "cell_type": "code",
   "execution_count": 6,
   "metadata": {
    "tags": []
   },
   "outputs": [],
   "source": [
    "vector_ganancias  <- c()  #vector donde voy a ir acumulando las ganancias"
   ]
  },
  {
   "cell_type": "code",
   "execution_count": 7,
   "metadata": {
    "tags": []
   },
   "outputs": [],
   "source": [
    "for( semilla in ksemillas)\n",
    "{\n",
    "    ganancia  <- GananciaArbol( semilla, dataset, x=param, train=0.70 )\n",
    "    vector_ganancias  <- c( vector_ganancias, ganancia)\n",
    "}"
   ]
  },
  {
   "cell_type": "markdown",
   "metadata": {},
   "source": [
    "veo que tiene  vector_ganancias"
   ]
  },
  {
   "cell_type": "code",
   "execution_count": 8,
   "metadata": {
    "tags": []
   },
   "outputs": [
    {
     "data": {
      "text/html": [
       "<style>\n",
       ".list-inline {list-style: none; margin:0; padding: 0}\n",
       ".list-inline>li {display: inline-block}\n",
       ".list-inline>li:not(:last-child)::after {content: \"\\00b7\"; padding: 0 .5ex}\n",
       "</style>\n",
       "<ol class=list-inline><li>52490000</li><li>56090000</li><li>52180000</li><li>54290000</li><li>47620000</li></ol>\n"
      ],
      "text/latex": [
       "\\begin{enumerate*}\n",
       "\\item 52490000\n",
       "\\item 56090000\n",
       "\\item 52180000\n",
       "\\item 54290000\n",
       "\\item 47620000\n",
       "\\end{enumerate*}\n"
      ],
      "text/markdown": [
       "1. 52490000\n",
       "2. 56090000\n",
       "3. 52180000\n",
       "4. 54290000\n",
       "5. 47620000\n",
       "\n",
       "\n"
      ],
      "text/plain": [
       "[1] 52490000 56090000 52180000 54290000 47620000"
      ]
     },
     "metadata": {},
     "output_type": "display_data"
    }
   ],
   "source": [
    "vector_ganancias"
   ]
  },
  {
   "cell_type": "markdown",
   "metadata": {},
   "source": [
    "Calculo la media de  vector_ganancias"
   ]
  },
  {
   "cell_type": "code",
   "execution_count": 9,
   "metadata": {
    "tags": []
   },
   "outputs": [
    {
     "data": {
      "text/html": [
       "52534000"
      ],
      "text/latex": [
       "52534000"
      ],
      "text/markdown": [
       "52534000"
      ],
      "text/plain": [
       "[1] 52534000"
      ]
     },
     "metadata": {},
     "output_type": "display_data"
    }
   ],
   "source": [
    "mean( vector_ganancias )"
   ]
  },
  {
   "cell_type": "code",
   "execution_count": null,
   "metadata": {},
   "outputs": [],
   "source": []
  }
 ],
 "metadata": {
  "kernelspec": {
   "display_name": "R",
   "language": "R",
   "name": "ir"
  },
  "language_info": {
   "codemirror_mode": "r",
   "file_extension": ".r",
   "mimetype": "text/x-r-source",
   "name": "R",
   "pygments_lexer": "r",
   "version": "4.2.3"
  }
 },
 "nbformat": 4,
 "nbformat_minor": 4
}
