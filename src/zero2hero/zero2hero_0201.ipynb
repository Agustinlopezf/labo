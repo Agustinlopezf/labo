{
 "cells": [
  {
   "cell_type": "markdown",
   "metadata": {},
   "source": [
    "# Zero to Hero"
   ]
  },
  {
   "cell_type": "markdown",
   "metadata": {},
   "source": [
    "## 2.01 Optimizacion Bayesiana"
   ]
  },
  {
   "cell_type": "raw",
   "metadata": {},
   "source": [
    "El objetivo es mostrar como funciona la Optimizacion Bayesiana en el caso mas simple : una funcion univariada"
   ]
  },
  {
   "cell_type": "markdown",
   "metadata": {},
   "source": [
    "### Advertencia"
   ]
  },
  {
   "cell_type": "markdown",
   "metadata": {},
   "source": [
    "El uso del método de Optimización Bayesiana para la optimización de hiperparámetros en modelos predictivos tiene menos de una década.\n",
    "Entender los fundamentos de la O.B. requieren de una sólida formación matemática y **no** son el objetivo de esta asignatura.\n",
    "Para quienes deseen aventurarse a los detalles técnicos:\n",
    "* El paper original de la libreria mlrMBO (año 2018 )   https://arxiv.org/pdf/1703.03373.pdf\n",
    "* El método de Kriging , tal cual se deriva del uso original, en este pequeño libro de 106 páginas \"Basic Steps in Geostatistics: The Variogram and Kriging\" https://www.pdfdrive.com/basic-steps-in-geostatistics-the-variogram-and-kriging-e187336318.html"
   ]
  },
  {
   "cell_type": "markdown",
   "metadata": {},
   "source": [
    "### El código"
   ]
  },
  {
   "cell_type": "code",
   "execution_count": 1,
   "metadata": {
    "tags": []
   },
   "outputs": [
    {
     "data": {
      "text/html": [
       "<table class=\"dataframe\">\n",
       "<caption>A matrix: 2 × 6 of type dbl</caption>\n",
       "<thead>\n",
       "\t<tr><th></th><th scope=col>used</th><th scope=col>(Mb)</th><th scope=col>gc trigger</th><th scope=col>(Mb)</th><th scope=col>max used</th><th scope=col>(Mb)</th></tr>\n",
       "</thead>\n",
       "<tbody>\n",
       "\t<tr><th scope=row>Ncells</th><td> 614815</td><td>32.9</td><td>1321231</td><td>70.6</td><td>1321231</td><td>70.6</td></tr>\n",
       "\t<tr><th scope=row>Vcells</th><td>1093650</td><td> 8.4</td><td>8388608</td><td>64.0</td><td>1632983</td><td>12.5</td></tr>\n",
       "</tbody>\n",
       "</table>\n"
      ],
      "text/latex": [
       "A matrix: 2 × 6 of type dbl\n",
       "\\begin{tabular}{r|llllll}\n",
       "  & used & (Mb) & gc trigger & (Mb) & max used & (Mb)\\\\\n",
       "\\hline\n",
       "\tNcells &  614815 & 32.9 & 1321231 & 70.6 & 1321231 & 70.6\\\\\n",
       "\tVcells & 1093650 &  8.4 & 8388608 & 64.0 & 1632983 & 12.5\\\\\n",
       "\\end{tabular}\n"
      ],
      "text/markdown": [
       "\n",
       "A matrix: 2 × 6 of type dbl\n",
       "\n",
       "| <!--/--> | used | (Mb) | gc trigger | (Mb) | max used | (Mb) |\n",
       "|---|---|---|---|---|---|---|\n",
       "| Ncells |  614815 | 32.9 | 1321231 | 70.6 | 1321231 | 70.6 |\n",
       "| Vcells | 1093650 |  8.4 | 8388608 | 64.0 | 1632983 | 12.5 |\n",
       "\n"
      ],
      "text/plain": [
       "       used    (Mb) gc trigger (Mb) max used (Mb)\n",
       "Ncells  614815 32.9 1321231    70.6 1321231  70.6\n",
       "Vcells 1093650  8.4 8388608    64.0 1632983  12.5"
      ]
     },
     "metadata": {},
     "output_type": "display_data"
    },
    {
     "name": "stderr",
     "output_type": "stream",
     "text": [
      "Loading required package: data.table\n",
      "\n",
      "Loading required package: DiceKriging\n",
      "\n",
      "Loading required package: mlrMBO\n",
      "\n",
      "Loading required package: mlr\n",
      "\n",
      "Loading required package: ParamHelpers\n",
      "\n",
      "Warning message: 'mlr' is in 'maintenance-only' mode since July 2019.\n",
      "Future development will only happen in 'mlr3'\n",
      "(<https://mlr3.mlr-org.com>). Due to the focus on 'mlr3' there might be\n",
      "uncaught bugs meanwhile in {mlr} - please consider switching.\n",
      "\n",
      "Loading required package: smoof\n",
      "\n",
      "Loading required package: checkmate\n",
      "\n",
      "\n",
      "Attaching package: 'checkmate'\n",
      "\n",
      "\n",
      "The following object is masked from 'package:DiceKriging':\n",
      "\n",
      "    checkNames\n",
      "\n",
      "\n"
     ]
    }
   ],
   "source": [
    "#Ejemplo de optimizacion bayesiana, univariada\n",
    "\n",
    "#limpio la memoria\n",
    "rm( list=ls() )  #remove all objects\n",
    "gc()             #garbage collection\n",
    "\n",
    "require(\"data.table\")\n",
    "#paquetes necesarios para la Bayesian Optimization\n",
    "require(\"DiceKriging\")\n",
    "require(\"mlrMBO\")\n",
    "\n",
    "options(repr.plot.width=20, repr.plot.height=10)"
   ]
  },
  {
   "cell_type": "markdown",
   "metadata": {},
   "source": [
    "### Defino la funcion a optimizar, un polinomio de grado 4"
   ]
  },
  {
   "cell_type": "code",
   "execution_count": 6,
   "metadata": {
    "tags": []
   },
   "outputs": [],
   "source": [
    "func_univariada01  <- function( x )\n",
    "{\n",
    "  y  <- -2 * (x+13) * (x-3) * (x-7) * (x-19)\n",
    "\n",
    "  return( y )\n",
    "}"
   ]
  },
  {
   "cell_type": "markdown",
   "metadata": {},
   "source": [
    "Grafico la funcion"
   ]
  },
  {
   "cell_type": "code",
   "execution_count": 7,
   "metadata": {
    "tags": []
   },
   "outputs": [
    {
     "data": {
      "image/png": "[encoded data removed]",
      "text/plain": [
       "plot without title"
      ]
     },
     "metadata": {
      "image/png": {
       "height": 600,
       "width": 1200
      }
     },
     "output_type": "display_data"
    }
   ],
   "source": [
    "intervalo  <- seq(-15,21,0.1)\n",
    "plot(intervalo, func_univariada01(intervalo))"
   ]
  },
  {
   "cell_type": "markdown",
   "metadata": {},
   "source": [
    "La funcion tiene dos máximos, uno de ellos es el global."
   ]
  },
  {
   "cell_type": "markdown",
   "metadata": {},
   "source": [
    "### Optimizacion Bayesiana"
   ]
  },
  {
   "cell_type": "markdown",
   "metadata": {},
   "source": [
    "¿Qué tan rápido encontrará la Optmización Bayesiana el máximo global?"
   ]
  },
  {
   "cell_type": "markdown",
   "metadata": {},
   "source": [
    "Defino las caracteristicas de la optimizacion"
   ]
  },
  {
   "cell_type": "markdown",
   "metadata": {},
   "source": [
    "* **fn**    es el nombre de la funcion\n",
    "* **minimize**   por defecto es TRUE,  pero en este caso le asigno FALSE, ya que deseo maximizar  el valor\n",
    "* **par.set**  indica cuales son los hiperparmetros de la funcion, en este caso hay una sola variable que llamé  x\n",
    "---\n",
    "* **makeNumericParam** indica que ese hiperparámetro es un numero real, una variable continua  ( no es ni un entero ni una categoria )"
   ]
  },
  {
   "cell_type": "code",
   "execution_count": 8,
   "metadata": {
    "tags": []
   },
   "outputs": [],
   "source": [
    "obj.fun  <- makeSingleObjectiveFunction(\n",
    "              fn=       func_univariada01,\n",
    "              minimize= FALSE,   #estoy Maximizando la ganancia\n",
    "              par.set=  makeParamSet(  makeNumericParam( \"x\", lower= -100, upper=  100) ),\n",
    "             )"
   ]
  },
  {
   "cell_type": "markdown",
   "metadata": {},
   "source": [
    "ahora defino la funcion proxy, la que se construye internamente intentando emular la realidad"
   ]
  },
  {
   "cell_type": "markdown",
   "metadata": {},
   "source": [
    "* **cl**  es la clase de learner,  \"reg.km\" indica el método de kriging \"**reg**ression **k**riging **m**ethodd\"\n",
    "* **predict.type**  es el tipo de prediccion que deseo me devuelva, \"se\" significa que espero dos valores  media y standard error\n",
    "* **covtype**    es la funcion de covarianza que se va a utilizar, cual es la covarianza de dos mediciones como fucion de la distancia entre los puntos donde fueron tomadas las mediciones, fue inventada por Bertil Matérn "
   ]
  },
  {
   "cell_type": "markdown",
   "metadata": {},
   "source": [
    "El método de kriging puede verse en su forma original (la geología) , esta presentación https://www.youtube.com/watch?v=ZB7GvJrNKq0"
   ]
  },
  {
   "cell_type": "code",
   "execution_count": 9,
   "metadata": {
    "tags": []
   },
   "outputs": [],
   "source": [
    "fproxy  <- makeLearner( cl= \"regr.km\",\n",
    "                        predict.type= \"se\", \n",
    "                        covtype= \"matern3_2\" )"
   ]
  },
  {
   "cell_type": "markdown",
   "metadata": {},
   "source": [
    "ultima definicion,  especificar la optimizacion bayesiana\n",
    "*  **crit**   indica el criterio con el que se completan los valores iniciales \"no inteligentes\"\n",
    "*  **iters**  indica la cantidad de iteraciones inteligentes que hará la Optimizacion Bayesiana, las que son adicionales a las primeras cuatro de este caso.*  **iters**  indica la cantidad de iteraciones inteligentes que hará la Optimizacion Bayesiana, las que son adicionales a las primeras cuatro de este caso."
   ]
  },
  {
   "cell_type": "code",
   "execution_count": 10,
   "metadata": {
    "tags": []
   },
   "outputs": [],
   "source": [
    "ctrl  <- makeMBOControl()\n",
    "ctrl  <- setMBOControlInfill( ctrl, crit= makeMBOInfillCritEI())\n",
    "ctrl  <- setMBOControlTermination( ctrl, iters= 25 )"
   ]
  },
  {
   "cell_type": "markdown",
   "metadata": {},
   "source": [
    "finalmente , lanzo la Optimizacion Bayesiana"
   ]
  },
  {
   "cell_type": "markdown",
   "metadata": {},
   "source": [
    "* **fun**  es la especificacion de la funcion que deseo optimizar, si maximizo o minimizo, cuales son las variables de la misma\n",
    "* **learner**  especifica cual es la función proxy interna que va a utilizar la Optimziación Bayesiana\n",
    "* **control**  indica la la forma en que se harán las iteraciones"
   ]
  },
  {
   "cell_type": "code",
   "execution_count": 11,
   "metadata": {
    "tags": []
   },
   "outputs": [
    {
     "name": "stderr",
     "output_type": "stream",
     "text": [
      "Computing y column(s) for design. Not provided.\n",
      "\n",
      "[mbo] 0: x=20.6 : y = -2.54e+04 : 0.0 secs : initdesign\n",
      "\n",
      "[mbo] 0: x=-33.4 : y = -3.16e+06 : 0.0 secs : initdesign\n",
      "\n",
      "[mbo] 0: x=81.6 : y = -6.95e+07 : 0.0 secs : initdesign\n",
      "\n",
      "[mbo] 0: x=-64.3 : y = -4.1e+07 : 0.0 secs : initdesign\n",
      "\n"
     ]
    },
    {
     "name": "stdout",
     "output_type": "stream",
     "text": [
      "\n",
      "optimisation start\n",
      "------------------\n",
      "* estimation method   : MLE \n",
      "* optimisation method : BFGS \n",
      "* analytical gradient : used\n",
      "* trend model : ~1\n",
      "* covariance model : \n",
      "  - type :  matern3_2 \n",
      "  - nugget : NO\n",
      "  - parameters lower bounds :  1e-10 \n",
      "  - parameters upper bounds :  291.8642 \n",
      "  - best initial criterion value(s) :  -74.36511 \n",
      "\n",
      "N = 1, M = 5 machine precision = 2.22045e-16\n",
      "At X0, 0 variables are exactly at the bounds\n",
      "At iterate     0  f=       74.365  |proj g|=   0.00055613\n",
      "At iterate     1  f =       74.365  |proj g|=     0.0005558\n",
      "At iterate     2  f =       74.365  |proj g|=     0.0001601\n",
      "At iterate     3  f =       74.365  |proj g|=    8.0646e-05\n",
      "At iterate     4  f =       74.365  |proj g|=    3.4464e-05\n",
      "At iterate     5  f =       74.365  |proj g|=    1.6041e-05\n",
      "At iterate     6  f =       74.365  |proj g|=    7.3449e-06\n",
      "At iterate     7  f =       74.365  |proj g|=    3.4255e-06\n",
      "At iterate     8  f =       74.365  |proj g|=    1.6016e-06\n",
      "At iterate     9  f =       74.365  |proj g|=    7.5398e-07\n",
      "At iterate    10  f =       74.365  |proj g|=    3.5631e-07\n",
      "\n",
      "iterations 10\n",
      "function evaluations 11\n",
      "segments explored during Cauchy searches 10\n",
      "BFGS updates skipped 0\n",
      "active bounds at final generalized Cauchy point 0\n",
      "norm of the final projected gradient 3.56314e-07\n",
      "final function value 74.3647\n",
      "\n",
      "F = 74.3647\n",
      "final  value 74.364724 \n",
      "converged\n"
     ]
    },
    {
     "name": "stderr",
     "output_type": "stream",
     "text": [
      "[mbo] 1: x=18.6 : y = 4.18e+03 : 0.0 secs : infill_ei\n",
      "\n"
     ]
    },
    {
     "name": "stdout",
     "output_type": "stream",
     "text": [
      "\n",
      "optimisation start\n",
      "------------------\n",
      "* estimation method   : MLE \n",
      "* optimisation method : BFGS \n",
      "* analytical gradient : used\n",
      "* trend model : ~1\n",
      "* covariance model : \n",
      "  - type :  matern3_2 \n",
      "  - nugget : NO\n",
      "  - parameters lower bounds :  1e-10 \n",
      "  - parameters upper bounds :  291.8642 \n",
      "  - best initial criterion value(s) :  -90.40945 \n",
      "\n",
      "N = 1, M = 5 machine precision = 2.22045e-16\n",
      "At X0, 0 variables are exactly at the bounds\n",
      "At iterate     0  f=       90.409  |proj g|=    0.0039656\n",
      "At iterate     1  f =       90.409  |proj g|=      0.003961\n",
      "At iterate     2  f =       90.402  |proj g|=    0.00040369\n",
      "At iterate     3  f =       90.402  |proj g|=    4.7779e-05\n",
      "At iterate     4  f =       90.402  |proj g|=    6.9201e-07\n",
      "At iterate     5  f =       90.402  |proj g|=    1.2116e-09\n",
      "\n",
      "iterations 5\n",
      "function evaluations 6\n",
      "segments explored during Cauchy searches 5\n",
      "BFGS updates skipped 0\n",
      "active bounds at final generalized Cauchy point 0\n",
      "norm of the final projected gradient 1.21156e-09\n",
      "final function value 90.4021\n",
      "\n",
      "F = 90.4021\n",
      "final  value 90.402146 \n",
      "converged\n"
     ]
    },
    {
     "name": "stderr",
     "output_type": "stream",
     "text": [
      "[mbo] 2: x=-11.4 : y = 2.64e+04 : 0.0 secs : infill_ei\n",
      "\n"
     ]
    },
    {
     "name": "stdout",
     "output_type": "stream",
     "text": [
      "\n",
      "optimisation start\n",
      "------------------\n",
      "* estimation method   : MLE \n",
      "* optimisation method : BFGS \n",
      "* analytical gradient : used\n",
      "* trend model : ~1\n",
      "* covariance model : \n",
      "  - type :  matern3_2 \n",
      "  - nugget : NO\n",
      "  - parameters lower bounds :  1e-10 \n",
      "  - parameters upper bounds :  291.8642 \n",
      "  - best initial criterion value(s) :  -107.6942 \n",
      "\n",
      "N = 1, M = 5 machine precision = 2.22045e-16\n",
      "At X0, 0 variables are exactly at the bounds\n",
      "At iterate     0  f=       107.69  |proj g|=    0.0094386\n",
      "At iterate     1  f =       107.69  |proj g|=      0.009428\n",
      "At iterate     2  f =       107.65  |proj g|=     0.0020911\n",
      "At iterate     3  f =       107.65  |proj g|=    0.00060756\n",
      "At iterate     4  f =       107.65  |proj g|=    5.9727e-05\n",
      "At iterate     5  f =       107.65  |proj g|=    1.9462e-06\n",
      "At iterate     6  f =       107.65  |proj g|=     6.508e-09\n",
      "\n",
      "iterations 6\n",
      "function evaluations 7\n",
      "segments explored during Cauchy searches 6\n",
      "BFGS updates skipped 0\n",
      "active bounds at final generalized Cauchy point 0\n",
      "norm of the final projected gradient 6.50798e-09\n",
      "final function value 107.645\n",
      "\n",
      "F = 107.645\n",
      "final  value 107.645117 \n",
      "converged\n"
     ]
    },
    {
     "name": "stderr",
     "output_type": "stream",
     "text": [
      "[mbo] 3: x=-21.7 : y = -5e+05 : 0.0 secs : infill_ei\n",
      "\n"
     ]
    },
    {
     "name": "stdout",
     "output_type": "stream",
     "text": [
      "\n",
      "optimisation start\n",
      "------------------\n",
      "* estimation method   : MLE \n",
      "* optimisation method : BFGS \n",
      "* analytical gradient : used\n",
      "* trend model : ~1\n",
      "* covariance model : \n",
      "  - type :  matern3_2 \n",
      "  - nugget : NO\n",
      "  - parameters lower bounds :  1e-10 \n",
      "  - parameters upper bounds :  291.8642 \n",
      "  - best initial criterion value(s) :  -123.6346 \n",
      "\n",
      "N = 1, M = 5 machine precision = 2.22045e-16\n",
      "At X0, 0 variables are exactly at the bounds\n",
      "At iterate     0  f=       123.63  |proj g|=    0.0028653\n",
      "At iterate     1  f =       123.63  |proj g|=     0.0028641\n",
      "At iterate     2  f =       123.62  |proj g|=    0.00041576\n",
      "At iterate     3  f =       123.62  |proj g|=    7.1919e-05\n",
      "At iterate     4  f =       123.62  |proj g|=    2.2848e-06\n",
      "At iterate     5  f =       123.62  |proj g|=    1.3078e-08\n",
      "\n",
      "iterations 5\n",
      "function evaluations 6\n",
      "segments explored during Cauchy searches 5\n",
      "BFGS updates skipped 0\n",
      "active bounds at final generalized Cauchy point 0\n",
      "norm of the final projected gradient 1.30778e-08\n",
      "final function value 123.624\n",
      "\n",
      "F = 123.624\n",
      "final  value 123.623875 \n",
      "converged\n"
     ]
    },
    {
     "name": "stderr",
     "output_type": "stream",
     "text": [
      "[mbo] 4: x=2.59 : y = 933 : 0.0 secs : infill_ei\n",
      "\n"
     ]
    },
    {
     "name": "stdout",
     "output_type": "stream",
     "text": [
      "\n",
      "optimisation start\n",
      "------------------\n",
      "* estimation method   : MLE \n",
      "* optimisation method : BFGS \n",
      "* analytical gradient : used\n",
      "* trend model : ~1\n",
      "* covariance model : \n",
      "  - type :  matern3_2 \n",
      "  - nugget : NO\n",
      "  - parameters lower bounds :  1e-10 \n",
      "  - parameters upper bounds :  291.8642 \n",
      "  - best initial criterion value(s) :  -139.5018 \n",
      "\n",
      "N = 1, M = 5 machine precision = 2.22045e-16\n",
      "At X0, 0 variables are exactly at the bounds\n",
      "At iterate     0  f=        139.5  |proj g|=    0.0017164\n",
      "At iterate     1  f =        139.5  |proj g|=     0.0017162\n",
      "At iterate     2  f =       139.49  |proj g|=    0.00057597\n",
      "At iterate     3  f =       139.49  |proj g|=    0.00012584\n",
      "At iterate     4  f =       139.49  |proj g|=    7.2664e-06\n",
      "At iterate     5  f =       139.49  |proj g|=    9.8853e-08\n",
      "\n",
      "iterations 5\n",
      "function evaluations 6\n",
      "segments explored during Cauchy searches 5\n",
      "BFGS updates skipped 0\n",
      "active bounds at final generalized Cauchy point 0\n",
      "norm of the final projected gradient 9.88532e-08\n",
      "final function value 139.49\n",
      "\n",
      "F = 139.49\n",
      "final  value 139.490381 \n",
      "converged\n"
     ]
    },
    {
     "name": "stderr",
     "output_type": "stream",
     "text": [
      "[mbo] 5: x=-4.45 : y = 3.42e+04 : 0.0 secs : infill_ei\n",
      "\n"
     ]
    },
    {
     "name": "stdout",
     "output_type": "stream",
     "text": [
      "\n",
      "optimisation start\n",
      "------------------\n",
      "* estimation method   : MLE \n",
      "* optimisation method : BFGS \n",
      "* analytical gradient : used\n",
      "* trend model : ~1\n",
      "* covariance model : \n",
      "  - type :  matern3_2 \n",
      "  - nugget : NO\n",
      "  - parameters lower bounds :  1e-10 \n",
      "  - parameters upper bounds :  291.8642 \n",
      "  - best initial criterion value(s) :  -154.2648 \n",
      "\n",
      "N = 1, M = 5 machine precision = 2.22045e-16\n",
      "At X0, 0 variables are exactly at the bounds\n",
      "At iterate     0  f=       154.26  |proj g|=    0.0020463\n",
      "At iterate     1  f =       154.26  |proj g|=      0.002046\n",
      "At iterate     2  f =       154.25  |proj g|=    0.00033039\n",
      "At iterate     3  f =       154.25  |proj g|=    6.4556e-05\n",
      "At iterate     4  f =       154.25  |proj g|=    2.6529e-06\n",
      "At iterate     5  f =       154.25  |proj g|=    2.2445e-08\n",
      "\n",
      "iterations 5\n",
      "function evaluations 6\n",
      "segments explored during Cauchy searches 5\n",
      "BFGS updates skipped 0\n",
      "active bounds at final generalized Cauchy point 0\n",
      "norm of the final projected gradient 2.24454e-08\n",
      "final function value 154.251\n",
      "\n",
      "F = 154.251\n",
      "final  value 154.251038 \n",
      "converged\n"
     ]
    },
    {
     "name": "stderr",
     "output_type": "stream",
     "text": [
      "[mbo] 6: x=10.2 : y = 9.55e+03 : 0.0 secs : infill_ei\n",
      "\n"
     ]
    },
    {
     "name": "stdout",
     "output_type": "stream",
     "text": [
      "\n",
      "optimisation start\n",
      "------------------\n",
      "* estimation method   : MLE \n",
      "* optimisation method : BFGS \n",
      "* analytical gradient : used\n",
      "* trend model : ~1\n",
      "* covariance model : \n",
      "  - type :  matern3_2 \n",
      "  - nugget : NO\n",
      "  - parameters lower bounds :  1e-10 \n",
      "  - parameters upper bounds :  291.8642 \n",
      "  - best initial criterion value(s) :  -168.9156 \n",
      "\n",
      "N = 1, M = 5 machine precision = 2.22045e-16\n",
      "At X0, 0 variables are exactly at the bounds\n",
      "At iterate     0  f=       168.92  |proj g|=    0.0010601\n",
      "At iterate     1  f =       168.92  |proj g|=       0.00106\n",
      "At iterate     2  f =       168.91  |proj g|=     0.0001256\n",
      "At iterate     3  f =       168.91  |proj g|=    1.7166e-05\n",
      "At iterate     4  f =       168.91  |proj g|=    3.3318e-07\n",
      "At iterate     5  f =       168.91  |proj g|=    9.0585e-10\n",
      "\n",
      "iterations 5\n",
      "function evaluations 6\n",
      "segments explored during Cauchy searches 5\n",
      "BFGS updates skipped 0\n",
      "active bounds at final generalized Cauchy point 0\n",
      "norm of the final projected gradient 9.05849e-10\n",
      "final function value 168.91\n",
      "\n",
      "F = 168.91\n",
      "final  value 168.909770 \n",
      "converged\n"
     ]
    },
    {
     "name": "stderr",
     "output_type": "stream",
     "text": [
      "[mbo] 7: x=-15.5 : y = -7.3e+04 : 0.0 secs : infill_ei\n",
      "\n"
     ]
    },
    {
     "name": "stdout",
     "output_type": "stream",
     "text": [
      "\n",
      "optimisation start\n",
      "------------------\n",
      "* estimation method   : MLE \n",
      "* optimisation method : BFGS \n",
      "* analytical gradient : used\n",
      "* trend model : ~1\n",
      "* covariance model : \n",
      "  - type :  matern3_2 \n",
      "  - nugget : NO\n",
      "  - parameters lower bounds :  1e-10 \n",
      "  - parameters upper bounds :  291.8642 \n",
      "  - best initial criterion value(s) :  -182.9409 \n",
      "\n",
      "N = 1, M = 5 machine precision = 2.22045e-16\n",
      "At X0, 0 variables are exactly at the bounds\n",
      "At iterate     0  f=       182.94  |proj g|=   0.00045759\n",
      "At iterate     1  f =       182.94  |proj g|=    0.00045757\n",
      "\n",
      "iterations 1\n",
      "function evaluations 2\n",
      "segments explored during Cauchy searches 1\n",
      "BFGS updates skipped 0\n",
      "active bounds at final generalized Cauchy point 0\n",
      "norm of the final projected gradient 0.000457568\n",
      "final function value 182.941\n",
      "\n",
      "F = 182.941\n",
      "final  value 182.940928 \n",
      "converged\n"
     ]
    },
    {
     "name": "stderr",
     "output_type": "stream",
     "text": [
      "[mbo] 8: x=14.1 : y = 2.1e+04 : 0.0 secs : infill_ei\n",
      "\n"
     ]
    },
    {
     "name": "stdout",
     "output_type": "stream",
     "text": [
      "\n",
      "optimisation start\n",
      "------------------\n",
      "* estimation method   : MLE \n",
      "* optimisation method : BFGS \n",
      "* analytical gradient : used\n",
      "* trend model : ~1\n",
      "* covariance model : \n",
      "  - type :  matern3_2 \n",
      "  - nugget : NO\n",
      "  - parameters lower bounds :  1e-10 \n",
      "  - parameters upper bounds :  291.8642 \n",
      "  - best initial criterion value(s) :  -196.5281 \n",
      "\n",
      "N = 1, M = 5 machine precision = 2.22045e-16\n",
      "At X0, 0 variables are exactly at the bounds\n",
      "At iterate     0  f=       196.53  |proj g|=   0.00018901\n",
      "At iterate     1  f =       196.53  |proj g|=      0.000189\n",
      "\n",
      "iterations 1\n",
      "function evaluations 2\n",
      "segments explored during Cauchy searches 1\n",
      "BFGS updates skipped 0\n",
      "active bounds at final generalized Cauchy point 0\n",
      "norm of the final projected gradient 0.000189001\n",
      "final function value 196.528\n",
      "\n",
      "F = 196.528\n",
      "final  value 196.528096 \n",
      "converged\n"
     ]
    },
    {
     "name": "stderr",
     "output_type": "stream",
     "text": [
      "[mbo] 9: x=-7.82 : y = 4.46e+04 : 0.0 secs : infill_ei\n",
      "\n"
     ]
    },
    {
     "name": "stdout",
     "output_type": "stream",
     "text": [
      "\n",
      "optimisation start\n",
      "------------------\n",
      "* estimation method   : MLE \n",
      "* optimisation method : BFGS \n",
      "* analytical gradient : used\n",
      "* trend model : ~1\n",
      "* covariance model : \n",
      "  - type :  matern3_2 \n",
      "  - nugget : NO\n",
      "  - parameters lower bounds :  1e-10 \n",
      "  - parameters upper bounds :  291.8642 \n",
      "  - best initial criterion value(s) :  -209.8207 \n",
      "\n",
      "N = 1, M = 5 machine precision = 2.22045e-16\n",
      "At X0, 0 variables are exactly at the bounds\n",
      "At iterate     0  f=       209.82  |proj g|=   8.4481e-05\n",
      "At iterate     1  f =       209.82  |proj g|=    8.4478e-05\n",
      "\n",
      "iterations 1\n",
      "function evaluations 2\n",
      "segments explored during Cauchy searches 1\n",
      "BFGS updates skipped 0\n",
      "active bounds at final generalized Cauchy point 0\n",
      "norm of the final projected gradient 8.44781e-05\n",
      "final function value 209.821\n",
      "\n",
      "F = 209.821\n",
      "final  value 209.820749 \n",
      "converged\n"
     ]
    },
    {
     "name": "stderr",
     "output_type": "stream",
     "text": [
      "[mbo] 10: x=6.35 : y = -1.07e+03 : 0.0 secs : infill_ei\n",
      "\n"
     ]
    },
    {
     "name": "stdout",
     "output_type": "stream",
     "text": [
      "\n",
      "optimisation start\n",
      "------------------\n",
      "* estimation method   : MLE \n",
      "* optimisation method : BFGS \n",
      "* analytical gradient : used\n",
      "* trend model : ~1\n",
      "* covariance model : \n",
      "  - type :  matern3_2 \n",
      "  - nugget : NO\n",
      "  - parameters lower bounds :  1e-10 \n",
      "  - parameters upper bounds :  291.8642 \n",
      "  - best initial criterion value(s) :  -223.1777 \n",
      "\n",
      "N = 1, M = 5 machine precision = 2.22045e-16\n",
      "At X0, 0 variables are exactly at the bounds\n",
      "At iterate     0  f=       223.18  |proj g|=   3.2603e-05\n",
      "At iterate     1  f =       223.18  |proj g|=    3.2602e-05\n",
      "\n",
      "iterations 1\n",
      "function evaluations 2\n",
      "segments explored during Cauchy searches 1\n",
      "BFGS updates skipped 0\n",
      "active bounds at final generalized Cauchy point 0\n",
      "norm of the final projected gradient 3.26016e-05\n",
      "final function value 223.178\n",
      "\n",
      "F = 223.178\n",
      "final  value 223.177698 \n",
      "converged\n"
     ]
    },
    {
     "name": "stderr",
     "output_type": "stream",
     "text": [
      "[mbo] 11: x=-1.07 : y = 1.57e+04 : 0.0 secs : infill_ei\n",
      "\n"
     ]
    },
    {
     "name": "stdout",
     "output_type": "stream",
     "text": [
      "\n",
      "optimisation start\n",
      "------------------\n",
      "* estimation method   : MLE \n",
      "* optimisation method : BFGS \n",
      "* analytical gradient : used\n",
      "* trend model : ~1\n",
      "* covariance model : \n",
      "  - type :  matern3_2 \n",
      "  - nugget : NO\n",
      "  - parameters lower bounds :  1e-10 \n",
      "  - parameters upper bounds :  291.8642 \n",
      "  - best initial criterion value(s) :  -236.3088 \n",
      "\n",
      "N = 1, M = 5 machine precision = 2.22045e-16\n",
      "At X0, 0 variables are exactly at the bounds\n",
      "At iterate     0  f=       236.31  |proj g|=   0.00034718\n",
      "At iterate     1  f =       236.31  |proj g|=    0.00034717\n",
      "\n",
      "iterations 1\n",
      "function evaluations 2\n",
      "segments explored during Cauchy searches 1\n",
      "BFGS updates skipped 0\n",
      "active bounds at final generalized Cauchy point 0\n",
      "norm of the final projected gradient 0.000347171\n",
      "final function value 236.309\n",
      "\n",
      "F = 236.309\n",
      "final  value 236.308821 \n",
      "converged\n"
     ]
    },
    {
     "name": "stderr",
     "output_type": "stream",
     "text": [
      "[mbo] 12: x=-9.5 : y = 4.12e+04 : 0.0 secs : infill_ei\n",
      "\n"
     ]
    },
    {
     "name": "stdout",
     "output_type": "stream",
     "text": [
      "\n",
      "optimisation start\n",
      "------------------\n",
      "* estimation method   : MLE \n",
      "* optimisation method : BFGS \n",
      "* analytical gradient : used\n",
      "* trend model : ~1\n",
      "* covariance model : \n",
      "  - type :  matern3_2 \n",
      "  - nugget : NO\n",
      "  - parameters lower bounds :  1e-10 \n",
      "  - parameters upper bounds :  291.8642 \n",
      "  - best initial criterion value(s) :  -248.4865 \n",
      "\n",
      "N = 1, M = 5 machine precision = 2.22045e-16\n",
      "At X0, 0 variables are exactly at the bounds\n",
      "At iterate     0  f=       248.49  |proj g|=   0.00085822\n",
      "At iterate     1  f =       248.49  |proj g|=     0.0008582\n",
      "At iterate     2  f =       248.48  |proj g|=             0\n",
      "\n",
      "iterations 2\n",
      "function evaluations 3\n",
      "segments explored during Cauchy searches 2\n",
      "BFGS updates skipped 0\n",
      "active bounds at final generalized Cauchy point 1\n",
      "norm of the final projected gradient 0\n",
      "final function value 248.48\n",
      "\n",
      "F = 248.48\n",
      "final  value 248.479575 \n",
      "converged\n"
     ]
    },
    {
     "name": "stderr",
     "output_type": "stream",
     "text": [
      "[mbo] 13: x=16.2 : y = 1.98e+04 : 0.0 secs : infill_ei\n",
      "\n"
     ]
    },
    {
     "name": "stdout",
     "output_type": "stream",
     "text": [
      "\n",
      "optimisation start\n",
      "------------------\n",
      "* estimation method   : MLE \n",
      "* optimisation method : BFGS \n",
      "* analytical gradient : used\n",
      "* trend model : ~1\n",
      "* covariance model : \n",
      "  - type :  matern3_2 \n",
      "  - nugget : NO\n",
      "  - parameters lower bounds :  1e-10 \n",
      "  - parameters upper bounds :  291.8642 \n",
      "  - best initial criterion value(s) :  -260.9114 \n",
      "\n",
      "N = 1, M = 5 machine precision = 2.22045e-16\n",
      "At X0, 0 variables are exactly at the bounds\n",
      "At iterate     0  f=       260.91  |proj g|=     0.001419\n",
      "At iterate     1  f =       260.91  |proj g|=     0.0014189\n",
      "At iterate     2  f =        260.9  |proj g|=             0\n",
      "\n",
      "iterations 2\n",
      "function evaluations 3\n",
      "segments explored during Cauchy searches 2\n",
      "BFGS updates skipped 0\n",
      "active bounds at final generalized Cauchy point 1\n",
      "norm of the final projected gradient 0\n",
      "final function value 260.903\n",
      "\n",
      "F = 260.903\n",
      "final  value 260.902501 \n",
      "converged\n"
     ]
    },
    {
     "name": "stderr",
     "output_type": "stream",
     "text": [
      "[mbo] 14: x=-6.16 : y = 4.15e+04 : 0.0 secs : infill_ei\n",
      "\n"
     ]
    },
    {
     "name": "stdout",
     "output_type": "stream",
     "text": [
      "\n",
      "optimisation start\n",
      "------------------\n",
      "* estimation method   : MLE \n",
      "* optimisation method : BFGS \n",
      "* analytical gradient : used\n",
      "* trend model : ~1\n",
      "* covariance model : \n",
      "  - type :  matern3_2 \n",
      "  - nugget : NO\n",
      "  - parameters lower bounds :  1e-10 \n",
      "  - parameters upper bounds :  291.8642 \n",
      "  - best initial criterion value(s) :  -272.8871 \n",
      "\n",
      "N = 1, M = 5 machine precision = 2.22045e-16\n",
      "At X0, 0 variables are exactly at the bounds\n",
      "At iterate     0  f=       272.89  |proj g|=     0.002031\n",
      "At iterate     1  f =       272.89  |proj g|=     0.0020309\n",
      "At iterate     2  f =       272.88  |proj g|=             0\n",
      "\n",
      "iterations 2\n",
      "function evaluations 3\n",
      "segments explored during Cauchy searches 2\n",
      "BFGS updates skipped 0\n",
      "active bounds at final generalized Cauchy point 1\n",
      "norm of the final projected gradient 0\n",
      "final function value 272.876\n",
      "\n",
      "F = 272.876\n",
      "final  value 272.875683 \n",
      "converged\n"
     ]
    },
    {
     "name": "stderr",
     "output_type": "stream",
     "text": [
      "[mbo] 15: x=12.2 : y = 1.64e+04 : 0.0 secs : infill_ei\n",
      "\n"
     ]
    },
    {
     "name": "stdout",
     "output_type": "stream",
     "text": [
      "\n",
      "optimisation start\n",
      "------------------\n",
      "* estimation method   : MLE \n",
      "* optimisation method : BFGS \n",
      "* analytical gradient : used\n",
      "* trend model : ~1\n",
      "* covariance model : \n",
      "  - type :  matern3_2 \n",
      "  - nugget : NO\n",
      "  - parameters lower bounds :  1e-10 \n",
      "  - parameters upper bounds :  291.8642 \n",
      "  - best initial criterion value(s) :  -285.0963 \n",
      "\n",
      "N = 1, M = 5 machine precision = 2.22045e-16\n",
      "At X0, 0 variables are exactly at the bounds\n",
      "At iterate     0  f=        285.1  |proj g|=    0.0031632\n",
      "At iterate     1  f =        285.1  |proj g|=      0.003163\n",
      "At iterate     2  f =       285.05  |proj g|=             0\n",
      "\n",
      "iterations 2\n",
      "function evaluations 3\n",
      "segments explored during Cauchy searches 2\n",
      "BFGS updates skipped 0\n",
      "active bounds at final generalized Cauchy point 1\n",
      "norm of the final projected gradient 0\n",
      "final function value 285.05\n",
      "\n",
      "F = 285.05\n",
      "final  value 285.049971 \n",
      "converged\n"
     ]
    },
    {
     "name": "stderr",
     "output_type": "stream",
     "text": [
      "[mbo] 16: x=-2.82 : y = 2.54e+04 : 0.0 secs : infill_ei\n",
      "\n"
     ]
    },
    {
     "name": "stdout",
     "output_type": "stream",
     "text": [
      "\n",
      "optimisation start\n",
      "------------------\n",
      "* estimation method   : MLE \n",
      "* optimisation method : BFGS \n",
      "* analytical gradient : used\n",
      "* trend model : ~1\n",
      "* covariance model : \n",
      "  - type :  matern3_2 \n",
      "  - nugget : NO\n",
      "  - parameters lower bounds :  1e-10 \n",
      "  - parameters upper bounds :  291.8642 \n",
      "  - best initial criterion value(s) :  -296.9813 \n",
      "\n",
      "N = 1, M = 5 machine precision = 2.22045e-16\n",
      "At X0, 0 variables are exactly at the bounds\n",
      "At iterate     0  f=       296.98  |proj g|=     0.003064\n",
      "At iterate     1  f =       296.98  |proj g|=     0.0030639\n",
      "At iterate     2  f =       296.98  |proj g|=             0\n",
      "\n",
      "iterations 2\n",
      "function evaluations 3\n",
      "segments explored during Cauchy searches 2\n",
      "BFGS updates skipped 0\n",
      "active bounds at final generalized Cauchy point 1\n",
      "norm of the final projected gradient 0\n",
      "final function value 296.98\n",
      "\n",
      "F = 296.98\n",
      "final  value 296.979868 \n",
      "converged\n"
     ]
    },
    {
     "name": "stderr",
     "output_type": "stream",
     "text": [
      "[mbo] 17: x=-13.2 : y = -3.24e+03 : 0.0 secs : infill_ei\n",
      "\n"
     ]
    },
    {
     "name": "stdout",
     "output_type": "stream",
     "text": [
      "\n",
      "optimisation start\n",
      "------------------\n",
      "* estimation method   : MLE \n",
      "* optimisation method : BFGS \n",
      "* analytical gradient : used\n",
      "* trend model : ~1\n",
      "* covariance model : \n",
      "  - type :  matern3_2 \n",
      "  - nugget : NO\n",
      "  - parameters lower bounds :  1e-10 \n",
      "  - parameters upper bounds :  291.8642 \n",
      "  - best initial criterion value(s) :  -309.3598 \n",
      "\n",
      "N = 1, M = 5 machine precision = 2.22045e-16\n",
      "At X0, 0 variables are exactly at the bounds\n",
      "At iterate     0  f=       309.36  |proj g|=    0.0059571\n",
      "At iterate     1  f =       309.36  |proj g|=     0.0059566\n",
      "At iterate     2  f =       309.18  |proj g|=             0\n",
      "\n",
      "iterations 2\n",
      "function evaluations 3\n",
      "segments explored during Cauchy searches 2\n",
      "BFGS updates skipped 0\n",
      "active bounds at final generalized Cauchy point 1\n",
      "norm of the final projected gradient 0\n",
      "final function value 309.183\n",
      "\n",
      "F = 309.183\n",
      "final  value 309.182677 \n",
      "converged\n"
     ]
    },
    {
     "name": "stderr",
     "output_type": "stream",
     "text": [
      "[mbo] 18: x=8.29 : y = 3.12e+03 : 0.0 secs : infill_ei\n",
      "\n"
     ]
    },
    {
     "name": "stdout",
     "output_type": "stream",
     "text": [
      "\n",
      "optimisation start\n",
      "------------------\n",
      "* estimation method   : MLE \n",
      "* optimisation method : BFGS \n",
      "* analytical gradient : used\n",
      "* trend model : ~1\n",
      "* covariance model : \n",
      "  - type :  matern3_2 \n",
      "  - nugget : NO\n",
      "  - parameters lower bounds :  1e-10 \n",
      "  - parameters upper bounds :  291.8642 \n",
      "  - best initial criterion value(s) :  -321.3912 \n",
      "\n",
      "N = 1, M = 5 machine precision = 2.22045e-16\n",
      "At X0, 0 variables are exactly at the bounds\n",
      "At iterate     0  f=       321.39  |proj g|=    0.0057815\n",
      "At iterate     1  f =       321.39  |proj g|=     0.0057811\n",
      "At iterate     2  f =       321.27  |proj g|=             0\n",
      "\n",
      "iterations 2\n",
      "function evaluations 3\n",
      "segments explored during Cauchy searches 2\n",
      "BFGS updates skipped 0\n",
      "active bounds at final generalized Cauchy point 1\n",
      "norm of the final projected gradient 0\n",
      "final function value 321.268\n",
      "\n",
      "F = 321.268\n",
      "final  value 321.267897 \n",
      "converged\n"
     ]
    },
    {
     "name": "stderr",
     "output_type": "stream",
     "text": [
      "[mbo] 19: x=0.743 : y = 7.09e+03 : 0.0 secs : infill_ei\n",
      "\n"
     ]
    },
    {
     "name": "stdout",
     "output_type": "stream",
     "text": [
      "\n",
      "optimisation start\n",
      "------------------\n",
      "* estimation method   : MLE \n",
      "* optimisation method : BFGS \n",
      "* analytical gradient : used\n",
      "* trend model : ~1\n",
      "* covariance model : \n",
      "  - type :  matern3_2 \n",
      "  - nugget : NO\n",
      "  - parameters lower bounds :  1e-10 \n",
      "  - parameters upper bounds :  291.8642 \n",
      "  - best initial criterion value(s) :  -333.2587 \n",
      "\n",
      "N = 1, M = 5 machine precision = 2.22045e-16\n",
      "At X0, 0 variables are exactly at the bounds\n",
      "At iterate     0  f=       333.26  |proj g|=    0.0051837\n",
      "At iterate     1  f =       333.26  |proj g|=     0.0051834\n",
      "At iterate     2  f =       333.23  |proj g|=             0\n",
      "\n",
      "iterations 2\n",
      "function evaluations 3\n",
      "segments explored during Cauchy searches 2\n",
      "BFGS updates skipped 0\n",
      "active bounds at final generalized Cauchy point 1\n",
      "norm of the final projected gradient 0\n",
      "final function value 333.233\n",
      "\n",
      "F = 333.233\n",
      "final  value 333.233386 \n",
      "converged\n"
     ]
    },
    {
     "name": "stderr",
     "output_type": "stream",
     "text": [
      "[mbo] 20: x=25.1 : y = -1.87e+05 : 0.0 secs : infill_ei\n",
      "\n"
     ]
    },
    {
     "name": "stdout",
     "output_type": "stream",
     "text": [
      "\n",
      "optimisation start\n",
      "------------------\n",
      "* estimation method   : MLE \n",
      "* optimisation method : BFGS \n",
      "* analytical gradient : used\n",
      "* trend model : ~1\n",
      "* covariance model : \n",
      "  - type :  matern3_2 \n",
      "  - nugget : NO\n",
      "  - parameters lower bounds :  1e-10 \n",
      "  - parameters upper bounds :  291.8642 \n",
      "  - best initial criterion value(s) :  -348.2137 \n",
      "\n",
      "N = 1, M = 5 machine precision = 2.22045e-16\n",
      "At X0, 0 variables are exactly at the bounds\n",
      "At iterate     0  f=       348.21  |proj g|=    0.0058653\n",
      "At iterate     1  f =       348.21  |proj g|=     0.0058649\n",
      "At iterate     2  f =       348.17  |proj g|=             0\n",
      "\n",
      "iterations 2\n",
      "function evaluations 3\n",
      "segments explored during Cauchy searches 2\n",
      "BFGS updates skipped 0\n",
      "active bounds at final generalized Cauchy point 1\n",
      "norm of the final projected gradient 0\n",
      "final function value 348.166\n",
      "\n",
      "F = 348.166\n",
      "final  value 348.166346 \n",
      "converged\n"
     ]
    },
    {
     "name": "stderr",
     "output_type": "stream",
     "text": [
      "[mbo] 21: x=22.8 : y = -8.41e+04 : 0.0 secs : infill_ei\n",
      "\n"
     ]
    },
    {
     "name": "stdout",
     "output_type": "stream",
     "text": [
      "\n",
      "optimisation start\n",
      "------------------\n",
      "* estimation method   : MLE \n",
      "* optimisation method : BFGS \n",
      "* analytical gradient : used\n",
      "* trend model : ~1\n",
      "* covariance model : \n",
      "  - type :  matern3_2 \n",
      "  - nugget : NO\n",
      "  - parameters lower bounds :  1e-10 \n",
      "  - parameters upper bounds :  291.8642 \n",
      "  - best initial criterion value(s) :  -360.7581 \n",
      "\n",
      "N = 1, M = 5 machine precision = 2.22045e-16\n",
      "At X0, 0 variables are exactly at the bounds\n",
      "At iterate     0  f=       360.76  |proj g|=    0.0068942\n",
      "At iterate     1  f =       360.76  |proj g|=     0.0068936\n",
      "At iterate     2  f =       360.67  |proj g|=             0\n",
      "\n",
      "iterations 2\n",
      "function evaluations 3\n",
      "segments explored during Cauchy searches 2\n",
      "BFGS updates skipped 0\n",
      "active bounds at final generalized Cauchy point 1\n",
      "norm of the final projected gradient 0\n",
      "final function value 360.668\n",
      "\n",
      "F = 360.668\n",
      "final  value 360.667726 \n",
      "converged\n"
     ]
    },
    {
     "name": "stderr",
     "output_type": "stream",
     "text": [
      "[mbo] 22: x=4.47 : y = -1.89e+03 : 0.0 secs : infill_ei\n",
      "\n"
     ]
    },
    {
     "name": "stdout",
     "output_type": "stream",
     "text": [
      "\n",
      "optimisation start\n",
      "------------------\n",
      "* estimation method   : MLE \n",
      "* optimisation method : BFGS \n",
      "* analytical gradient : used\n",
      "* trend model : ~1\n",
      "* covariance model : \n",
      "  - type :  matern3_2 \n",
      "  - nugget : NO\n",
      "  - parameters lower bounds :  1e-10 \n",
      "  - parameters upper bounds :  291.8642 \n",
      "  - best initial criterion value(s) :  -372.6992 \n",
      "\n",
      "N = 1, M = 5 machine precision = 2.22045e-16\n",
      "At X0, 0 variables are exactly at the bounds\n",
      "At iterate     0  f=        372.7  |proj g|=    0.0075079\n",
      "At iterate     1  f =        372.7  |proj g|=     0.0075073\n",
      "At iterate     2  f =       372.61  |proj g|=             0\n",
      "\n",
      "iterations 2\n",
      "function evaluations 3\n",
      "segments explored during Cauchy searches 2\n",
      "BFGS updates skipped 0\n",
      "active bounds at final generalized Cauchy point 1\n",
      "norm of the final projected gradient 0\n",
      "final function value 372.605\n",
      "\n",
      "F = 372.605\n",
      "final  value 372.605369 \n",
      "converged\n"
     ]
    },
    {
     "name": "stderr",
     "output_type": "stream",
     "text": [
      "[mbo] 23: x=-8.63 : y = 4.39e+04 : 0.0 secs : infill_ei\n",
      "\n"
     ]
    },
    {
     "name": "stdout",
     "output_type": "stream",
     "text": [
      "\n",
      "optimisation start\n",
      "------------------\n",
      "* estimation method   : MLE \n",
      "* optimisation method : BFGS \n",
      "* analytical gradient : used\n",
      "* trend model : ~1\n",
      "* covariance model : \n",
      "  - type :  matern3_2 \n",
      "  - nugget : NO\n",
      "  - parameters lower bounds :  1e-10 \n",
      "  - parameters upper bounds :  291.8642 \n",
      "  - best initial criterion value(s) :  -383.574 \n",
      "\n",
      "N = 1, M = 5 machine precision = 2.22045e-16\n",
      "At X0, 0 variables are exactly at the bounds\n",
      "At iterate     0  f=       383.57  |proj g|=    0.0085922\n",
      "At iterate     1  f =       383.57  |proj g|=     0.0085914\n",
      "At iterate     2  f =       383.43  |proj g|=             0\n",
      "\n",
      "iterations 2\n",
      "function evaluations 3\n",
      "segments explored during Cauchy searches 2\n",
      "BFGS updates skipped 0\n",
      "active bounds at final generalized Cauchy point 1\n",
      "norm of the final projected gradient 0\n",
      "final function value 383.431\n",
      "\n",
      "F = 383.431\n",
      "final  value 383.431137 \n",
      "converged\n"
     ]
    },
    {
     "name": "stderr",
     "output_type": "stream",
     "text": [
      "[mbo] 24: x=-7 : y = 4.37e+04 : 0.0 secs : infill_ei\n",
      "\n"
     ]
    },
    {
     "name": "stdout",
     "output_type": "stream",
     "text": [
      "\n",
      "optimisation start\n",
      "------------------\n",
      "* estimation method   : MLE \n",
      "* optimisation method : BFGS \n",
      "* analytical gradient : used\n",
      "* trend model : ~1\n",
      "* covariance model : \n",
      "  - type :  matern3_2 \n",
      "  - nugget : NO\n",
      "  - parameters lower bounds :  1e-10 \n",
      "  - parameters upper bounds :  291.8642 \n",
      "  - best initial criterion value(s) :  -394.1736 \n",
      "\n",
      "N = 1, M = 5 machine precision = 2.22045e-16\n",
      "At X0, 0 variables are exactly at the bounds\n",
      "At iterate     0  f=       394.17  |proj g|=    0.0079068\n",
      "At iterate     1  f =       394.17  |proj g|=     0.0079061\n",
      "At iterate     2  f =       394.16  |proj g|=             0\n",
      "\n",
      "iterations 2\n",
      "function evaluations 3\n",
      "segments explored during Cauchy searches 2\n",
      "BFGS updates skipped 0\n",
      "active bounds at final generalized Cauchy point 1\n",
      "norm of the final projected gradient 0\n",
      "final function value 394.157\n",
      "\n",
      "F = 394.157\n",
      "final  value 394.157245 \n",
      "converged\n"
     ]
    },
    {
     "name": "stderr",
     "output_type": "stream",
     "text": [
      "[mbo] 25: x=-10.3 : y = 3.62e+04 : 0.0 secs : infill_ei\n",
      "\n"
     ]
    },
    {
     "name": "stdout",
     "output_type": "stream",
     "text": [
      "\n",
      "optimisation start\n",
      "------------------\n",
      "* estimation method   : MLE \n",
      "* optimisation method : BFGS \n",
      "* analytical gradient : used\n",
      "* trend model : ~1\n",
      "* covariance model : \n",
      "  - type :  matern3_2 \n",
      "  - nugget : NO\n",
      "  - parameters lower bounds :  1e-10 \n",
      "  - parameters upper bounds :  291.8642 \n",
      "  - best initial criterion value(s) :  -405.0935 \n",
      "\n",
      "N = 1, M = 5 machine precision = 2.22045e-16\n",
      "At X0, 0 variables are exactly at the bounds\n",
      "At iterate     0  f=       405.09  |proj g|=    0.0092055\n",
      "At iterate     1  f =       405.09  |proj g|=     0.0092047\n",
      "At iterate     2  f =       405.01  |proj g|=             0\n",
      "\n",
      "iterations 2\n",
      "function evaluations 3\n",
      "segments explored during Cauchy searches 2\n",
      "BFGS updates skipped 0\n",
      "active bounds at final generalized Cauchy point 1\n",
      "norm of the final projected gradient 0\n",
      "final function value 405.006\n",
      "\n",
      "F = 405.006\n",
      "final  value 405.005566 \n",
      "converged\n"
     ]
    }
   ],
   "source": [
    "run  <- mbo( fun=      obj.fun, \n",
    "             learner= fproxy, \n",
    "             control= ctrl )"
   ]
  },
  {
   "cell_type": "code",
   "execution_count": 12,
   "metadata": {
    "tags": []
   },
   "outputs": [],
   "source": [
    "tb_resultados  <- as.data.table( run$opt.path )"
   ]
  },
  {
   "cell_type": "code",
   "execution_count": 13,
   "metadata": {
    "tags": []
   },
   "outputs": [
    {
     "data": {
      "text/html": [
       "<table class=\"dataframe\">\n",
       "<caption>A data.table: 29 × 13</caption>\n",
       "<thead>\n",
       "\t<tr><th scope=col>x</th><th scope=col>y</th><th scope=col>dob</th><th scope=col>eol</th><th scope=col>error.message</th><th scope=col>exec.time</th><th scope=col>ei</th><th scope=col>error.model</th><th scope=col>train.time</th><th scope=col>prop.type</th><th scope=col>propose.time</th><th scope=col>se</th><th scope=col>mean</th></tr>\n",
       "\t<tr><th scope=col>&lt;dbl&gt;</th><th scope=col>&lt;dbl&gt;</th><th scope=col>&lt;int&gt;</th><th scope=col>&lt;int&gt;</th><th scope=col>&lt;chr&gt;</th><th scope=col>&lt;dbl&gt;</th><th scope=col>&lt;dbl&gt;</th><th scope=col>&lt;chr&gt;</th><th scope=col>&lt;dbl&gt;</th><th scope=col>&lt;chr&gt;</th><th scope=col>&lt;dbl&gt;</th><th scope=col>&lt;dbl&gt;</th><th scope=col>&lt;dbl&gt;</th></tr>\n",
       "</thead>\n",
       "<tbody>\n",
       "\t<tr><td> 20.584777</td><td>-2.542905e+04</td><td> 0</td><td>NA</td><td>NA</td><td>0.01</td><td>          NA</td><td>NA</td><td>  NA</td><td>initdesign</td><td>  NA</td><td>         NA</td><td>           NA</td></tr>\n",
       "\t<tr><td>-33.429375</td><td>-3.155067e+06</td><td> 0</td><td>NA</td><td>NA</td><td>0.00</td><td>          NA</td><td>NA</td><td>  NA</td><td>initdesign</td><td>  NA</td><td>         NA</td><td>           NA</td></tr>\n",
       "\t<tr><td> 81.622322</td><td>-6.952922e+07</td><td> 0</td><td>NA</td><td>NA</td><td>0.00</td><td>          NA</td><td>NA</td><td>  NA</td><td>initdesign</td><td>  NA</td><td>         NA</td><td>           NA</td></tr>\n",
       "\t<tr><td>-64.309776</td><td>-4.103489e+07</td><td> 0</td><td>NA</td><td>NA</td><td>0.00</td><td>          NA</td><td>NA</td><td>  NA</td><td>initdesign</td><td>  NA</td><td>         NA</td><td>           NA</td></tr>\n",
       "\t<tr><td> 18.636565</td><td> 4.184200e+03</td><td> 1</td><td>NA</td><td>NA</td><td>0.00</td><td>-4620652.888</td><td>NA</td><td>0.03</td><td>infill_ei </td><td>0.16</td><td>21306117.56</td><td>-9405218.9573</td></tr>\n",
       "\t<tr><td>-11.351147</td><td> 2.635948e+04</td><td> 2</td><td>NA</td><td>NA</td><td>0.00</td><td>-6249167.412</td><td>NA</td><td>0.00</td><td>infill_ei </td><td>0.16</td><td>14630268.98</td><td>  811486.0654</td></tr>\n",
       "\t<tr><td>-21.677583</td><td>-4.996076e+05</td><td> 3</td><td>NA</td><td>NA</td><td>0.00</td><td>-1832497.263</td><td>NA</td><td>0.01</td><td>infill_ei </td><td>0.14</td><td> 3869660.86</td><td>  573050.4207</td></tr>\n",
       "\t<tr><td>  2.586990</td><td> 9.325595e+02</td><td> 4</td><td>NA</td><td>NA</td><td>0.00</td><td>-1412317.759</td><td>NA</td><td>0.02</td><td>infill_ei </td><td>0.14</td><td> 3468403.98</td><td>   83236.9208</td></tr>\n",
       "\t<tr><td> -4.453966</td><td> 3.422585e+04</td><td> 5</td><td>NA</td><td>NA</td><td>0.00</td><td> -470644.293</td><td>NA</td><td>0.00</td><td>infill_ei </td><td>0.15</td><td> 1111785.04</td><td>   79556.6688</td></tr>\n",
       "\t<tr><td> 10.240714</td><td> 9.553671e+03</td><td> 6</td><td>NA</td><td>NA</td><td>0.00</td><td> -366594.247</td><td>NA</td><td>0.02</td><td>infill_ei </td><td>0.17</td><td>  984939.62</td><td>  -19628.2128</td></tr>\n",
       "\t<tr><td>-15.532340</td><td>-7.303224e+04</td><td> 7</td><td>NA</td><td>NA</td><td>0.00</td><td> -136011.234</td><td>NA</td><td>0.01</td><td>infill_ei </td><td>0.14</td><td>  515678.73</td><td> -124555.3758</td></tr>\n",
       "\t<tr><td> 14.149829</td><td> 2.099510e+04</td><td> 8</td><td>NA</td><td>NA</td><td>0.00</td><td> -114971.477</td><td>NA</td><td>0.00</td><td>infill_ei </td><td>0.16</td><td>  326438.69</td><td>    2477.5525</td></tr>\n",
       "\t<tr><td> -7.818863</td><td> 4.455454e+04</td><td> 9</td><td>NA</td><td>NA</td><td>0.00</td><td> -102452.873</td><td>NA</td><td>0.02</td><td>infill_ei </td><td>0.14</td><td>  246097.14</td><td>   42659.2047</td></tr>\n",
       "\t<tr><td>  6.350382</td><td>-1.065490e+03</td><td>10</td><td>NA</td><td>NA</td><td>0.00</td><td>  -81974.743</td><td>NA</td><td>0.02</td><td>infill_ei </td><td>0.16</td><td>  259375.27</td><td>   -1734.3879</td></tr>\n",
       "\t<tr><td> -1.069289</td><td> 1.572469e+04</td><td>11</td><td>NA</td><td>NA</td><td>0.00</td><td>  -68719.985</td><td>NA</td><td>0.01</td><td>infill_ei </td><td>0.16</td><td>  206049.21</td><td>   16016.7305</td></tr>\n",
       "\t<tr><td> -9.497786</td><td> 4.115689e+04</td><td>12</td><td>NA</td><td>NA</td><td>0.00</td><td>  -29573.655</td><td>NA</td><td>0.00</td><td>infill_ei </td><td>0.18</td><td>   79225.76</td><td>   40402.0310</td></tr>\n",
       "\t<tr><td> 16.213252</td><td> 1.982121e+04</td><td>13</td><td>NA</td><td>NA</td><td>0.00</td><td>  -25790.795</td><td>NA</td><td>0.00</td><td>infill_ei </td><td>0.17</td><td>  100306.25</td><td>   11899.1539</td></tr>\n",
       "\t<tr><td> -6.157879</td><td> 4.148352e+04</td><td>14</td><td>NA</td><td>NA</td><td>0.00</td><td>  -24066.163</td><td>NA</td><td>0.02</td><td>infill_ei </td><td>0.19</td><td>   64130.10</td><td>   41458.8397</td></tr>\n",
       "\t<tr><td> 12.203825</td><td> 1.640786e+04</td><td>15</td><td>NA</td><td>NA</td><td>0.00</td><td>  -19012.836</td><td>NA</td><td>0.00</td><td>infill_ei </td><td>0.15</td><td>   78352.19</td><td>   15941.2988</td></tr>\n",
       "\t<tr><td> -2.818514</td><td> 2.538190e+04</td><td>16</td><td>NA</td><td>NA</td><td>0.00</td><td>  -16070.271</td><td>NA</td><td>0.01</td><td>infill_ei </td><td>0.18</td><td>   61321.89</td><td>   25399.4610</td></tr>\n",
       "\t<tr><td>-13.154774</td><td>-3.240807e+03</td><td>17</td><td>NA</td><td>NA</td><td>0.00</td><td>  -14570.471</td><td>NA</td><td>0.01</td><td>infill_ei </td><td>0.17</td><td>   80450.58</td><td>    -163.2951</td></tr>\n",
       "\t<tr><td>  8.291330</td><td> 3.115807e+03</td><td>18</td><td>NA</td><td>NA</td><td>0.00</td><td>  -12480.490</td><td>NA</td><td>0.02</td><td>infill_ei </td><td>0.17</td><td>   71539.28</td><td>    3120.7418</td></tr>\n",
       "\t<tr><td>  0.743072</td><td> 7.086314e+03</td><td>19</td><td>NA</td><td>NA</td><td>0.00</td><td>  -10870.470</td><td>NA</td><td>0.02</td><td>infill_ei </td><td>0.17</td><td>   63433.39</td><td>    7114.2849</td></tr>\n",
       "\t<tr><td> 25.127767</td><td>-1.874371e+05</td><td>20</td><td>NA</td><td>NA</td><td>0.00</td><td>   -9300.224</td><td>NA</td><td>0.01</td><td>infill_ei </td><td>0.17</td><td>  535192.36</td><td> -876449.4973</td></tr>\n",
       "\t<tr><td> 22.771070</td><td>-8.412360e+04</td><td>21</td><td>NA</td><td>NA</td><td>0.00</td><td>  -10401.679</td><td>NA</td><td>0.00</td><td>infill_ei </td><td>0.19</td><td>   96201.95</td><td>  -38122.6961</td></tr>\n",
       "\t<tr><td>  4.465687</td><td>-1.885870e+03</td><td>22</td><td>NA</td><td>NA</td><td>0.00</td><td>   -8037.833</td><td>NA</td><td>0.02</td><td>infill_ei </td><td>0.19</td><td>   61609.67</td><td>   -1844.2524</td></tr>\n",
       "\t<tr><td> -8.625992</td><td> 4.390410e+04</td><td>23</td><td>NA</td><td>NA</td><td>0.00</td><td>   -7753.326</td><td>NA</td><td>0.01</td><td>infill_ei </td><td>0.19</td><td>   20258.37</td><td>   43888.6152</td></tr>\n",
       "\t<tr><td> -6.999659</td><td> 4.367936e+04</td><td>24</td><td>NA</td><td>NA</td><td>0.00</td><td>   -6883.589</td><td>NA</td><td>0.00</td><td>infill_ei </td><td>0.19</td><td>   18330.40</td><td>   43679.5112</td></tr>\n",
       "\t<tr><td>-10.330400</td><td> 3.617812e+04</td><td>25</td><td>NA</td><td>NA</td><td>0.00</td><td>   -4760.710</td><td>NA</td><td>0.01</td><td>infill_ei </td><td>0.19</td><td>   20706.50</td><td>   36240.3628</td></tr>\n",
       "</tbody>\n",
       "</table>\n"
      ],
      "text/latex": [
       "A data.table: 29 × 13\n",
       "\\begin{tabular}{lllllllllllll}\n",
       " x & y & dob & eol & error.message & exec.time & ei & error.model & train.time & prop.type & propose.time & se & mean\\\\\n",
       " <dbl> & <dbl> & <int> & <int> & <chr> & <dbl> & <dbl> & <chr> & <dbl> & <chr> & <dbl> & <dbl> & <dbl>\\\\\n",
       "\\hline\n",
       "\t  20.584777 & -2.542905e+04 &  0 & NA & NA & 0.01 &           NA & NA &   NA & initdesign &   NA &          NA &            NA\\\\\n",
       "\t -33.429375 & -3.155067e+06 &  0 & NA & NA & 0.00 &           NA & NA &   NA & initdesign &   NA &          NA &            NA\\\\\n",
       "\t  81.622322 & -6.952922e+07 &  0 & NA & NA & 0.00 &           NA & NA &   NA & initdesign &   NA &          NA &            NA\\\\\n",
       "\t -64.309776 & -4.103489e+07 &  0 & NA & NA & 0.00 &           NA & NA &   NA & initdesign &   NA &          NA &            NA\\\\\n",
       "\t  18.636565 &  4.184200e+03 &  1 & NA & NA & 0.00 & -4620652.888 & NA & 0.03 & infill\\_ei  & 0.16 & 21306117.56 & -9405218.9573\\\\\n",
       "\t -11.351147 &  2.635948e+04 &  2 & NA & NA & 0.00 & -6249167.412 & NA & 0.00 & infill\\_ei  & 0.16 & 14630268.98 &   811486.0654\\\\\n",
       "\t -21.677583 & -4.996076e+05 &  3 & NA & NA & 0.00 & -1832497.263 & NA & 0.01 & infill\\_ei  & 0.14 &  3869660.86 &   573050.4207\\\\\n",
       "\t   2.586990 &  9.325595e+02 &  4 & NA & NA & 0.00 & -1412317.759 & NA & 0.02 & infill\\_ei  & 0.14 &  3468403.98 &    83236.9208\\\\\n",
       "\t  -4.453966 &  3.422585e+04 &  5 & NA & NA & 0.00 &  -470644.293 & NA & 0.00 & infill\\_ei  & 0.15 &  1111785.04 &    79556.6688\\\\\n",
       "\t  10.240714 &  9.553671e+03 &  6 & NA & NA & 0.00 &  -366594.247 & NA & 0.02 & infill\\_ei  & 0.17 &   984939.62 &   -19628.2128\\\\\n",
       "\t -15.532340 & -7.303224e+04 &  7 & NA & NA & 0.00 &  -136011.234 & NA & 0.01 & infill\\_ei  & 0.14 &   515678.73 &  -124555.3758\\\\\n",
       "\t  14.149829 &  2.099510e+04 &  8 & NA & NA & 0.00 &  -114971.477 & NA & 0.00 & infill\\_ei  & 0.16 &   326438.69 &     2477.5525\\\\\n",
       "\t  -7.818863 &  4.455454e+04 &  9 & NA & NA & 0.00 &  -102452.873 & NA & 0.02 & infill\\_ei  & 0.14 &   246097.14 &    42659.2047\\\\\n",
       "\t   6.350382 & -1.065490e+03 & 10 & NA & NA & 0.00 &   -81974.743 & NA & 0.02 & infill\\_ei  & 0.16 &   259375.27 &    -1734.3879\\\\\n",
       "\t  -1.069289 &  1.572469e+04 & 11 & NA & NA & 0.00 &   -68719.985 & NA & 0.01 & infill\\_ei  & 0.16 &   206049.21 &    16016.7305\\\\\n",
       "\t  -9.497786 &  4.115689e+04 & 12 & NA & NA & 0.00 &   -29573.655 & NA & 0.00 & infill\\_ei  & 0.18 &    79225.76 &    40402.0310\\\\\n",
       "\t  16.213252 &  1.982121e+04 & 13 & NA & NA & 0.00 &   -25790.795 & NA & 0.00 & infill\\_ei  & 0.17 &   100306.25 &    11899.1539\\\\\n",
       "\t  -6.157879 &  4.148352e+04 & 14 & NA & NA & 0.00 &   -24066.163 & NA & 0.02 & infill\\_ei  & 0.19 &    64130.10 &    41458.8397\\\\\n",
       "\t  12.203825 &  1.640786e+04 & 15 & NA & NA & 0.00 &   -19012.836 & NA & 0.00 & infill\\_ei  & 0.15 &    78352.19 &    15941.2988\\\\\n",
       "\t  -2.818514 &  2.538190e+04 & 16 & NA & NA & 0.00 &   -16070.271 & NA & 0.01 & infill\\_ei  & 0.18 &    61321.89 &    25399.4610\\\\\n",
       "\t -13.154774 & -3.240807e+03 & 17 & NA & NA & 0.00 &   -14570.471 & NA & 0.01 & infill\\_ei  & 0.17 &    80450.58 &     -163.2951\\\\\n",
       "\t   8.291330 &  3.115807e+03 & 18 & NA & NA & 0.00 &   -12480.490 & NA & 0.02 & infill\\_ei  & 0.17 &    71539.28 &     3120.7418\\\\\n",
       "\t   0.743072 &  7.086314e+03 & 19 & NA & NA & 0.00 &   -10870.470 & NA & 0.02 & infill\\_ei  & 0.17 &    63433.39 &     7114.2849\\\\\n",
       "\t  25.127767 & -1.874371e+05 & 20 & NA & NA & 0.00 &    -9300.224 & NA & 0.01 & infill\\_ei  & 0.17 &   535192.36 &  -876449.4973\\\\\n",
       "\t  22.771070 & -8.412360e+04 & 21 & NA & NA & 0.00 &   -10401.679 & NA & 0.00 & infill\\_ei  & 0.19 &    96201.95 &   -38122.6961\\\\\n",
       "\t   4.465687 & -1.885870e+03 & 22 & NA & NA & 0.00 &    -8037.833 & NA & 0.02 & infill\\_ei  & 0.19 &    61609.67 &    -1844.2524\\\\\n",
       "\t  -8.625992 &  4.390410e+04 & 23 & NA & NA & 0.00 &    -7753.326 & NA & 0.01 & infill\\_ei  & 0.19 &    20258.37 &    43888.6152\\\\\n",
       "\t  -6.999659 &  4.367936e+04 & 24 & NA & NA & 0.00 &    -6883.589 & NA & 0.00 & infill\\_ei  & 0.19 &    18330.40 &    43679.5112\\\\\n",
       "\t -10.330400 &  3.617812e+04 & 25 & NA & NA & 0.00 &    -4760.710 & NA & 0.01 & infill\\_ei  & 0.19 &    20706.50 &    36240.3628\\\\\n",
       "\\end{tabular}\n"
      ],
      "text/markdown": [
       "\n",
       "A data.table: 29 × 13\n",
       "\n",
       "| x &lt;dbl&gt; | y &lt;dbl&gt; | dob &lt;int&gt; | eol &lt;int&gt; | error.message &lt;chr&gt; | exec.time &lt;dbl&gt; | ei &lt;dbl&gt; | error.model &lt;chr&gt; | train.time &lt;dbl&gt; | prop.type &lt;chr&gt; | propose.time &lt;dbl&gt; | se &lt;dbl&gt; | mean &lt;dbl&gt; |\n",
       "|---|---|---|---|---|---|---|---|---|---|---|---|---|\n",
       "|  20.584777 | -2.542905e+04 |  0 | NA | NA | 0.01 |           NA | NA |   NA | initdesign |   NA |          NA |            NA |\n",
       "| -33.429375 | -3.155067e+06 |  0 | NA | NA | 0.00 |           NA | NA |   NA | initdesign |   NA |          NA |            NA |\n",
       "|  81.622322 | -6.952922e+07 |  0 | NA | NA | 0.00 |           NA | NA |   NA | initdesign |   NA |          NA |            NA |\n",
       "| -64.309776 | -4.103489e+07 |  0 | NA | NA | 0.00 |           NA | NA |   NA | initdesign |   NA |          NA |            NA |\n",
       "|  18.636565 |  4.184200e+03 |  1 | NA | NA | 0.00 | -4620652.888 | NA | 0.03 | infill_ei  | 0.16 | 21306117.56 | -9405218.9573 |\n",
       "| -11.351147 |  2.635948e+04 |  2 | NA | NA | 0.00 | -6249167.412 | NA | 0.00 | infill_ei  | 0.16 | 14630268.98 |   811486.0654 |\n",
       "| -21.677583 | -4.996076e+05 |  3 | NA | NA | 0.00 | -1832497.263 | NA | 0.01 | infill_ei  | 0.14 |  3869660.86 |   573050.4207 |\n",
       "|   2.586990 |  9.325595e+02 |  4 | NA | NA | 0.00 | -1412317.759 | NA | 0.02 | infill_ei  | 0.14 |  3468403.98 |    83236.9208 |\n",
       "|  -4.453966 |  3.422585e+04 |  5 | NA | NA | 0.00 |  -470644.293 | NA | 0.00 | infill_ei  | 0.15 |  1111785.04 |    79556.6688 |\n",
       "|  10.240714 |  9.553671e+03 |  6 | NA | NA | 0.00 |  -366594.247 | NA | 0.02 | infill_ei  | 0.17 |   984939.62 |   -19628.2128 |\n",
       "| -15.532340 | -7.303224e+04 |  7 | NA | NA | 0.00 |  -136011.234 | NA | 0.01 | infill_ei  | 0.14 |   515678.73 |  -124555.3758 |\n",
       "|  14.149829 |  2.099510e+04 |  8 | NA | NA | 0.00 |  -114971.477 | NA | 0.00 | infill_ei  | 0.16 |   326438.69 |     2477.5525 |\n",
       "|  -7.818863 |  4.455454e+04 |  9 | NA | NA | 0.00 |  -102452.873 | NA | 0.02 | infill_ei  | 0.14 |   246097.14 |    42659.2047 |\n",
       "|   6.350382 | -1.065490e+03 | 10 | NA | NA | 0.00 |   -81974.743 | NA | 0.02 | infill_ei  | 0.16 |   259375.27 |    -1734.3879 |\n",
       "|  -1.069289 |  1.572469e+04 | 11 | NA | NA | 0.00 |   -68719.985 | NA | 0.01 | infill_ei  | 0.16 |   206049.21 |    16016.7305 |\n",
       "|  -9.497786 |  4.115689e+04 | 12 | NA | NA | 0.00 |   -29573.655 | NA | 0.00 | infill_ei  | 0.18 |    79225.76 |    40402.0310 |\n",
       "|  16.213252 |  1.982121e+04 | 13 | NA | NA | 0.00 |   -25790.795 | NA | 0.00 | infill_ei  | 0.17 |   100306.25 |    11899.1539 |\n",
       "|  -6.157879 |  4.148352e+04 | 14 | NA | NA | 0.00 |   -24066.163 | NA | 0.02 | infill_ei  | 0.19 |    64130.10 |    41458.8397 |\n",
       "|  12.203825 |  1.640786e+04 | 15 | NA | NA | 0.00 |   -19012.836 | NA | 0.00 | infill_ei  | 0.15 |    78352.19 |    15941.2988 |\n",
       "|  -2.818514 |  2.538190e+04 | 16 | NA | NA | 0.00 |   -16070.271 | NA | 0.01 | infill_ei  | 0.18 |    61321.89 |    25399.4610 |\n",
       "| -13.154774 | -3.240807e+03 | 17 | NA | NA | 0.00 |   -14570.471 | NA | 0.01 | infill_ei  | 0.17 |    80450.58 |     -163.2951 |\n",
       "|   8.291330 |  3.115807e+03 | 18 | NA | NA | 0.00 |   -12480.490 | NA | 0.02 | infill_ei  | 0.17 |    71539.28 |     3120.7418 |\n",
       "|   0.743072 |  7.086314e+03 | 19 | NA | NA | 0.00 |   -10870.470 | NA | 0.02 | infill_ei  | 0.17 |    63433.39 |     7114.2849 |\n",
       "|  25.127767 | -1.874371e+05 | 20 | NA | NA | 0.00 |    -9300.224 | NA | 0.01 | infill_ei  | 0.17 |   535192.36 |  -876449.4973 |\n",
       "|  22.771070 | -8.412360e+04 | 21 | NA | NA | 0.00 |   -10401.679 | NA | 0.00 | infill_ei  | 0.19 |    96201.95 |   -38122.6961 |\n",
       "|   4.465687 | -1.885870e+03 | 22 | NA | NA | 0.00 |    -8037.833 | NA | 0.02 | infill_ei  | 0.19 |    61609.67 |    -1844.2524 |\n",
       "|  -8.625992 |  4.390410e+04 | 23 | NA | NA | 0.00 |    -7753.326 | NA | 0.01 | infill_ei  | 0.19 |    20258.37 |    43888.6152 |\n",
       "|  -6.999659 |  4.367936e+04 | 24 | NA | NA | 0.00 |    -6883.589 | NA | 0.00 | infill_ei  | 0.19 |    18330.40 |    43679.5112 |\n",
       "| -10.330400 |  3.617812e+04 | 25 | NA | NA | 0.00 |    -4760.710 | NA | 0.01 | infill_ei  | 0.19 |    20706.50 |    36240.3628 |\n",
       "\n"
      ],
      "text/plain": [
       "   x          y             dob eol error.message exec.time ei          \n",
       "1   20.584777 -2.542905e+04  0  NA  NA            0.01                NA\n",
       "2  -33.429375 -3.155067e+06  0  NA  NA            0.00                NA\n",
       "3   81.622322 -6.952922e+07  0  NA  NA            0.00                NA\n",
       "4  -64.309776 -4.103489e+07  0  NA  NA            0.00                NA\n",
       "5   18.636565  4.184200e+03  1  NA  NA            0.00      -4620652.888\n",
       "6  -11.351147  2.635948e+04  2  NA  NA            0.00      -6249167.412\n",
       "7  -21.677583 -4.996076e+05  3  NA  NA            0.00      -1832497.263\n",
       "8    2.586990  9.325595e+02  4  NA  NA            0.00      -1412317.759\n",
       "9   -4.453966  3.422585e+04  5  NA  NA            0.00       -470644.293\n",
       "10  10.240714  9.553671e+03  6  NA  NA            0.00       -366594.247\n",
       "11 -15.532340 -7.303224e+04  7  NA  NA            0.00       -136011.234\n",
       "12  14.149829  2.099510e+04  8  NA  NA            0.00       -114971.477\n",
       "13  -7.818863  4.455454e+04  9  NA  NA            0.00       -102452.873\n",
       "14   6.350382 -1.065490e+03 10  NA  NA            0.00        -81974.743\n",
       "15  -1.069289  1.572469e+04 11  NA  NA            0.00        -68719.985\n",
       "16  -9.497786  4.115689e+04 12  NA  NA            0.00        -29573.655\n",
       "17  16.213252  1.982121e+04 13  NA  NA            0.00        -25790.795\n",
       "18  -6.157879  4.148352e+04 14  NA  NA            0.00        -24066.163\n",
       "19  12.203825  1.640786e+04 15  NA  NA            0.00        -19012.836\n",
       "20  -2.818514  2.538190e+04 16  NA  NA            0.00        -16070.271\n",
       "21 -13.154774 -3.240807e+03 17  NA  NA            0.00        -14570.471\n",
       "22   8.291330  3.115807e+03 18  NA  NA            0.00        -12480.490\n",
       "23   0.743072  7.086314e+03 19  NA  NA            0.00        -10870.470\n",
       "24  25.127767 -1.874371e+05 20  NA  NA            0.00         -9300.224\n",
       "25  22.771070 -8.412360e+04 21  NA  NA            0.00        -10401.679\n",
       "26   4.465687 -1.885870e+03 22  NA  NA            0.00         -8037.833\n",
       "27  -8.625992  4.390410e+04 23  NA  NA            0.00         -7753.326\n",
       "28  -6.999659  4.367936e+04 24  NA  NA            0.00         -6883.589\n",
       "29 -10.330400  3.617812e+04 25  NA  NA            0.00         -4760.710\n",
       "   error.model train.time prop.type  propose.time se          mean         \n",
       "1  NA            NA       initdesign   NA                  NA            NA\n",
       "2  NA            NA       initdesign   NA                  NA            NA\n",
       "3  NA            NA       initdesign   NA                  NA            NA\n",
       "4  NA            NA       initdesign   NA                  NA            NA\n",
       "5  NA          0.03       infill_ei  0.16         21306117.56 -9405218.9573\n",
       "6  NA          0.00       infill_ei  0.16         14630268.98   811486.0654\n",
       "7  NA          0.01       infill_ei  0.14          3869660.86   573050.4207\n",
       "8  NA          0.02       infill_ei  0.14          3468403.98    83236.9208\n",
       "9  NA          0.00       infill_ei  0.15          1111785.04    79556.6688\n",
       "10 NA          0.02       infill_ei  0.17           984939.62   -19628.2128\n",
       "11 NA          0.01       infill_ei  0.14           515678.73  -124555.3758\n",
       "12 NA          0.00       infill_ei  0.16           326438.69     2477.5525\n",
       "13 NA          0.02       infill_ei  0.14           246097.14    42659.2047\n",
       "14 NA          0.02       infill_ei  0.16           259375.27    -1734.3879\n",
       "15 NA          0.01       infill_ei  0.16           206049.21    16016.7305\n",
       "16 NA          0.00       infill_ei  0.18            79225.76    40402.0310\n",
       "17 NA          0.00       infill_ei  0.17           100306.25    11899.1539\n",
       "18 NA          0.02       infill_ei  0.19            64130.10    41458.8397\n",
       "19 NA          0.00       infill_ei  0.15            78352.19    15941.2988\n",
       "20 NA          0.01       infill_ei  0.18            61321.89    25399.4610\n",
       "21 NA          0.01       infill_ei  0.17            80450.58     -163.2951\n",
       "22 NA          0.02       infill_ei  0.17            71539.28     3120.7418\n",
       "23 NA          0.02       infill_ei  0.17            63433.39     7114.2849\n",
       "24 NA          0.01       infill_ei  0.17           535192.36  -876449.4973\n",
       "25 NA          0.00       infill_ei  0.19            96201.95   -38122.6961\n",
       "26 NA          0.02       infill_ei  0.19            61609.67    -1844.2524\n",
       "27 NA          0.01       infill_ei  0.19            20258.37    43888.6152\n",
       "28 NA          0.00       infill_ei  0.19            18330.40    43679.5112\n",
       "29 NA          0.01       infill_ei  0.19            20706.50    36240.3628"
      ]
     },
     "metadata": {},
     "output_type": "display_data"
    }
   ],
   "source": [
    "tb_resultados"
   ]
  },
  {
   "cell_type": "code",
   "execution_count": 14,
   "metadata": {
    "tags": []
   },
   "outputs": [
    {
     "data": {
      "text/html": [
       "<table class=\"dataframe\">\n",
       "<caption>A data.table: 1 × 13</caption>\n",
       "<thead>\n",
       "\t<tr><th scope=col>x</th><th scope=col>y</th><th scope=col>dob</th><th scope=col>eol</th><th scope=col>error.message</th><th scope=col>exec.time</th><th scope=col>ei</th><th scope=col>error.model</th><th scope=col>train.time</th><th scope=col>prop.type</th><th scope=col>propose.time</th><th scope=col>se</th><th scope=col>mean</th></tr>\n",
       "\t<tr><th scope=col>&lt;dbl&gt;</th><th scope=col>&lt;dbl&gt;</th><th scope=col>&lt;int&gt;</th><th scope=col>&lt;int&gt;</th><th scope=col>&lt;chr&gt;</th><th scope=col>&lt;dbl&gt;</th><th scope=col>&lt;dbl&gt;</th><th scope=col>&lt;chr&gt;</th><th scope=col>&lt;dbl&gt;</th><th scope=col>&lt;chr&gt;</th><th scope=col>&lt;dbl&gt;</th><th scope=col>&lt;dbl&gt;</th><th scope=col>&lt;dbl&gt;</th></tr>\n",
       "</thead>\n",
       "<tbody>\n",
       "\t<tr><td>-7.818863</td><td>44554.54</td><td>9</td><td>NA</td><td>NA</td><td>0</td><td>-102452.9</td><td>NA</td><td>0.02</td><td>infill_ei</td><td>0.14</td><td>246097.1</td><td>42659.2</td></tr>\n",
       "</tbody>\n",
       "</table>\n"
      ],
      "text/latex": [
       "A data.table: 1 × 13\n",
       "\\begin{tabular}{lllllllllllll}\n",
       " x & y & dob & eol & error.message & exec.time & ei & error.model & train.time & prop.type & propose.time & se & mean\\\\\n",
       " <dbl> & <dbl> & <int> & <int> & <chr> & <dbl> & <dbl> & <chr> & <dbl> & <chr> & <dbl> & <dbl> & <dbl>\\\\\n",
       "\\hline\n",
       "\t -7.818863 & 44554.54 & 9 & NA & NA & 0 & -102452.9 & NA & 0.02 & infill\\_ei & 0.14 & 246097.1 & 42659.2\\\\\n",
       "\\end{tabular}\n"
      ],
      "text/markdown": [
       "\n",
       "A data.table: 1 × 13\n",
       "\n",
       "| x &lt;dbl&gt; | y &lt;dbl&gt; | dob &lt;int&gt; | eol &lt;int&gt; | error.message &lt;chr&gt; | exec.time &lt;dbl&gt; | ei &lt;dbl&gt; | error.model &lt;chr&gt; | train.time &lt;dbl&gt; | prop.type &lt;chr&gt; | propose.time &lt;dbl&gt; | se &lt;dbl&gt; | mean &lt;dbl&gt; |\n",
       "|---|---|---|---|---|---|---|---|---|---|---|---|---|\n",
       "| -7.818863 | 44554.54 | 9 | NA | NA | 0 | -102452.9 | NA | 0.02 | infill_ei | 0.14 | 246097.1 | 42659.2 |\n",
       "\n"
      ],
      "text/plain": [
       "  x         y        dob eol error.message exec.time ei        error.model\n",
       "1 -7.818863 44554.54 9   NA  NA            0         -102452.9 NA         \n",
       "  train.time prop.type propose.time se       mean   \n",
       "1 0.02       infill_ei 0.14         246097.1 42659.2"
      ]
     },
     "metadata": {},
     "output_type": "display_data"
    }
   ],
   "source": [
    "tb_resultados[ which.max( tb_resultados$y ) ]"
   ]
  },
  {
   "cell_type": "markdown",
   "metadata": {},
   "source": [
    "### Conclusiones"
   ]
  },
  {
   "cell_type": "markdown",
   "metadata": {},
   "source": [
    "La gran pregunta es :  la Optimización Bayesiana, ¿se focaliza luego de muchas iteraciones solo en el entorno del máximo que está cerca de x= -8 ?"
   ]
  }
 ],
 "metadata": {
  "kernelspec": {
   "display_name": "R",
   "language": "R",
   "name": "ir"
  },
  "language_info": {
   "codemirror_mode": "r",
   "file_extension": ".r",
   "mimetype": "text/x-r-source",
   "name": "R",
   "pygments_lexer": "r",
   "version": "4.2.3"
  }
 },
 "nbformat": 4,
 "nbformat_minor": 4
}
